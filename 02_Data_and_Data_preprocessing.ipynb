{
  "nbformat": 4,
  "nbformat_minor": 0,
  "metadata": {
    "colab": {
      "provenance": []
    },
    "kernelspec": {
      "name": "python3",
      "display_name": "Python 3"
    },
    "language_info": {
      "name": "python"
    }
  },
  "cells": [
    {
      "cell_type": "markdown",
      "source": [
        "# A. Train and Test sets"
      ],
      "metadata": {
        "id": "_tDWHYX9exkv"
      }
    },
    {
      "cell_type": "code",
      "execution_count": null,
      "metadata": {
        "id": "fAXp9uG1F5pa"
      },
      "outputs": [],
      "source": [
        "# To fairly assess the score, we need to split the data into training and test sets.\n",
        "# Input data\n",
        "fish_length = [25.4, 26.3, 26.5, 29.0, 29.0, 29.7, 29.7, 30.0, 30.0, 30.7, 31.0, 31.0,\n",
        "                31.5, 32.0, 32.0, 32.0, 33.0, 33.0, 33.5, 33.5, 34.0, 34.0, 34.5, 35.0,\n",
        "                35.0, 35.0, 35.0, 36.0, 36.0, 37.0, 38.5, 38.5, 39.5, 41.0, 41.0, 9.8,\n",
        "                10.5, 10.6, 11.0, 11.2, 11.3, 11.8, 11.8, 12.0, 12.2, 12.4, 13.0, 14.3, 15.0]\n",
        "fish_weight = [242.0, 290.0, 340.0, 363.0, 430.0, 450.0, 500.0, 390.0, 450.0, 500.0, 475.0, 500.0,\n",
        "                500.0, 340.0, 600.0, 600.0, 700.0, 700.0, 610.0, 650.0, 575.0, 685.0, 620.0, 680.0,\n",
        "                700.0, 725.0, 720.0, 714.0, 850.0, 1000.0, 920.0, 955.0, 925.0, 975.0, 950.0, 6.7,\n",
        "                7.5, 7.0, 9.7, 9.8, 8.7, 10.0, 9.9, 9.8, 12.2, 13.4, 12.2, 19.7, 19.9]"
      ]
    },
    {
      "cell_type": "code",
      "source": [
        "fish_data = [[l, w] for l, w in zip(fish_length, fish_weight)] # Creating a 2D list.\n",
        "fish_target = [1] * 35 + [0] * 14  # 49 samples: 35 for training, 14 for testing.\n"
      ],
      "metadata": {
        "id": "2jhtLxtPN0oU"
      },
      "execution_count": null,
      "outputs": []
    },
    {
      "cell_type": "code",
      "source": [
        "from sklearn.neighbors import KNeighborsClassifier\n",
        "kn = KNeighborsClassifier()  # Import the KNeighborsClassifier class and create an object.\n",
        "\n",
        "print(fish_data[4])  # Access the 5th item.\n",
        "print(fish_data[:5])  # Access items from 0 to 4.\n",
        "print(fish_data[44:])  # Access items from index 44 to the end."
      ],
      "metadata": {
        "colab": {
          "base_uri": "https://localhost:8080/"
        },
        "id": "aQ7hIc5xGyCD",
        "outputId": "42d50269-42b6-404c-f3af-e32537fc938b"
      },
      "execution_count": null,
      "outputs": [
        {
          "output_type": "stream",
          "name": "stdout",
          "text": [
            "[29.0, 430.0]\n",
            "[[25.4, 242.0], [26.3, 290.0], [26.5, 340.0], [29.0, 363.0], [29.0, 430.0]]\n",
            "[[12.2, 12.2], [12.4, 13.4], [13.0, 12.2], [14.3, 19.7], [15.0, 19.9]]\n"
          ]
        }
      ]
    },
    {
      "cell_type": "code",
      "source": [
        "train_input = fish_data[:35]  # Training set input\n",
        "train_target = fish_target[:35]  # Training set target\n",
        "\n",
        "test_input = fish_data[35:]  # Test set input\n",
        "test_target = fish_target[35:]\n",
        "\n",
        "kn.fit(train_input, train_target)\n",
        "kn.score(test_input, test_target)\n",
        "\n",
        "# The score is 0?? Why such poor performance? The data is not evenly distributed! The last 14 samples contain no smelt. How can you train like that?\n",
        "# Sampling bias > Solution: NumPy.\n",
        "# What is NumPy? Let's use it to shuffle the data properly."
      ],
      "metadata": {
        "colab": {
          "base_uri": "https://localhost:8080/"
        },
        "id": "ZIEK2BRWKXv-",
        "outputId": "6ccc0b21-66ca-4a44-f5a9-0191695959ef"
      },
      "execution_count": null,
      "outputs": [
        {
          "output_type": "execute_result",
          "data": {
            "text/plain": [
              "0.0"
            ]
          },
          "metadata": {},
          "execution_count": 5
        }
      ]
    },
    {
      "cell_type": "code",
      "source": [
        "import numpy as np\n",
        "\n",
        "input_arr = np.array(fish_data)  # Convert the list to a NumPy array using the array() function.\n",
        "target_arr = np.array(fish_target)\n",
        "\n",
        "print(input_arr)  # Easier to read, right?\n",
        "print(target_arr)"
      ],
      "metadata": {
        "colab": {
          "base_uri": "https://localhost:8080/"
        },
        "id": "a51r_dvSK3vY",
        "outputId": "6e00a103-07df-4e1c-9515-7dfb2b23627a"
      },
      "execution_count": null,
      "outputs": [
        {
          "output_type": "stream",
          "name": "stdout",
          "text": [
            "[[  25.4  242. ]\n",
            " [  26.3  290. ]\n",
            " [  26.5  340. ]\n",
            " [  29.   363. ]\n",
            " [  29.   430. ]\n",
            " [  29.7  450. ]\n",
            " [  29.7  500. ]\n",
            " [  30.   390. ]\n",
            " [  30.   450. ]\n",
            " [  30.7  500. ]\n",
            " [  31.   475. ]\n",
            " [  31.   500. ]\n",
            " [  31.5  500. ]\n",
            " [  32.   340. ]\n",
            " [  32.   600. ]\n",
            " [  32.   600. ]\n",
            " [  33.   700. ]\n",
            " [  33.   700. ]\n",
            " [  33.5  610. ]\n",
            " [  33.5  650. ]\n",
            " [  34.   575. ]\n",
            " [  34.   685. ]\n",
            " [  34.5  620. ]\n",
            " [  35.   680. ]\n",
            " [  35.   700. ]\n",
            " [  35.   725. ]\n",
            " [  35.   720. ]\n",
            " [  36.   714. ]\n",
            " [  36.   850. ]\n",
            " [  37.  1000. ]\n",
            " [  38.5  920. ]\n",
            " [  38.5  955. ]\n",
            " [  39.5  925. ]\n",
            " [  41.   975. ]\n",
            " [  41.   950. ]\n",
            " [   9.8    6.7]\n",
            " [  10.5    7.5]\n",
            " [  10.6    7. ]\n",
            " [  11.     9.7]\n",
            " [  11.2    9.8]\n",
            " [  11.3    8.7]\n",
            " [  11.8   10. ]\n",
            " [  11.8    9.9]\n",
            " [  12.     9.8]\n",
            " [  12.2   12.2]\n",
            " [  12.4   13.4]\n",
            " [  13.    12.2]\n",
            " [  14.3   19.7]\n",
            " [  15.    19.9]]\n",
            "[1 1 1 1 1 1 1 1 1 1 1 1 1 1 1 1 1 1 1 1 1 1 1 1 1 1 1 1 1 1 1 1 1 1 1 0 0\n",
            " 0 0 0 0 0 0 0 0 0 0 0 0]\n"
          ]
        }
      ]
    },
    {
      "cell_type": "code",
      "source": [
        "print(input_arr.shape)  # Check the shape of the array."
      ],
      "metadata": {
        "colab": {
          "base_uri": "https://localhost:8080/"
        },
        "id": "-fWsRQsUQS9h",
        "outputId": "5220b5c1-ef86-45af-a74a-c8a2234808c9"
      },
      "execution_count": null,
      "outputs": [
        {
          "output_type": "stream",
          "name": "stdout",
          "text": [
            "(49, 2)\n"
          ]
        }
      ]
    },
    {
      "cell_type": "code",
      "source": [
        "np.random.seed(42)  # Set random seed to 42\n",
        "index = np.arange(49)  # Generate an array from 0 to 48 using arange()\n",
        "\n",
        "np.random.shuffle(index)  # Shuffle the index array.\n",
        "print(index)  # The array is well shuffled, starting with 13!\n",
        "\n",
        "# %% [code]\n",
        "print(input_arr[[1, 3]])  # Print samples at index 1 and 3."
      ],
      "metadata": {
        "colab": {
          "base_uri": "https://localhost:8080/"
        },
        "id": "CmTJYilWNrwG",
        "outputId": "82795168-f470-4246-d632-5edcb665c14a"
      },
      "execution_count": null,
      "outputs": [
        {
          "output_type": "stream",
          "name": "stdout",
          "text": [
            "[13 45 47 44 17 27 26 25 31 19 12  4 34  8  3  6 40 41 46 15  9 16 24 33\n",
            " 30  0 43 32  5 29 11 36  1 21  2 37 35 23 39 10 22 18 48 20  7 42 14 28\n",
            " 38]\n",
            "[[ 26.3 290. ]\n",
            " [ 29.  363. ]]\n"
          ]
        }
      ]
    },
    {
      "cell_type": "code",
      "source": [
        "train_input = input_arr[index[:35]]  # First 35 samples for training data.\n",
        "train_target = target_arr[index[:35]]\n",
        "\n",
        "print(input_arr[13], train_input[0])  # Yes, they match! The first index is 13.\n",
        "\n",
        "test_input = input_arr[index[35:]]  # Last 14 samples for test data.\n",
        "test_target = target_arr[index[35:]]"
      ],
      "metadata": {
        "colab": {
          "base_uri": "https://localhost:8080/"
        },
        "id": "_qM5n4gCSObV",
        "outputId": "8ffc8050-19aa-4f51-b3a8-1221232d09e2"
      },
      "execution_count": null,
      "outputs": [
        {
          "output_type": "stream",
          "name": "stdout",
          "text": [
            "[ 32. 340.] [ 32. 340.]\n"
          ]
        }
      ]
    },
    {
      "cell_type": "code",
      "source": [
        "import matplotlib.pyplot as plt\n",
        "plt.scatter(train_input[:, 0], train_input[:, 1])\n",
        "plt.scatter(test_input[:, 0], test_input[:, 1])\n",
        "\n",
        "plt.xlabel('Length')\n",
        "plt.ylabel('Weight')\n",
        "plt.show()  # Now it’s properly shuffled!"
      ],
      "metadata": {
        "colab": {
          "base_uri": "https://localhost:8080/",
          "height": 449
        },
        "id": "7GVfV3vnS4ur",
        "outputId": "24e6c6da-27ad-4cf9-a04d-45d72bc1a878"
      },
      "execution_count": null,
      "outputs": [
        {
          "output_type": "display_data",
          "data": {
            "text/plain": [
              "<Figure size 640x480 with 1 Axes>"
            ],
            "image/png": "[encoded data removed]"
          },
          "metadata": {}
        }
      ]
    },
    {
      "cell_type": "code",
      "source": [
        "kn.fit(train_input, train_target)  # Train the model.\n",
        "kn.score(test_input, test_target)  # 100% accuracy."
      ],
      "metadata": {
        "colab": {
          "base_uri": "https://localhost:8080/"
        },
        "id": "YfyD6ZR1UBjU",
        "outputId": "cacb3d2d-9792-44e3-fa16-55dabe46c68d"
      },
      "execution_count": null,
      "outputs": [
        {
          "output_type": "execute_result",
          "data": {
            "text/plain": [
              "1.0"
            ]
          },
          "metadata": {},
          "execution_count": 11
        }
      ]
    },
    {
      "cell_type": "code",
      "source": [
        "kn.predict(test_input)  # Make predictions."
      ],
      "metadata": {
        "colab": {
          "base_uri": "https://localhost:8080/"
        },
        "id": "nU6sln7FUdfm",
        "outputId": "2cb1e7d5-0756-419c-a418-6c81d601f5c2"
      },
      "execution_count": null,
      "outputs": [
        {
          "output_type": "execute_result",
          "data": {
            "text/plain": [
              "array([0, 0, 1, 0, 1, 1, 1, 0, 1, 1, 0, 1, 1, 0])"
            ]
          },
          "metadata": {},
          "execution_count": 12
        }
      ]
    },
    {
      "cell_type": "code",
      "source": [
        "test_target  # Check the actual test target."
      ],
      "metadata": {
        "id": "u9w8Jsv5UgvZ",
        "outputId": "f45b186a-fec5-467d-9363-e7e3adae2d18",
        "colab": {
          "base_uri": "https://localhost:8080/"
        }
      },
      "execution_count": null,
      "outputs": [
        {
          "output_type": "execute_result",
          "data": {
            "text/plain": [
              "array([0, 0, 1, 0, 1, 1, 1, 0, 1, 1, 0, 1, 1, 0])"
            ]
          },
          "metadata": {},
          "execution_count": 13
        }
      ]
    },
    {
      "cell_type": "markdown",
      "source": [
        "# B. Data Preprocessing"
      ],
      "metadata": {
        "id": "W9b49YE8LB5y"
      }
    },
    {
      "cell_type": "code",
      "source": [
        "# Let's load the code and concatenate the data.\n",
        "# Input data\n",
        "fish_length = [25.4, 26.3, 26.5, 29.0, 29.0, 29.7, 29.7, 30.0, 30.0, 30.7, 31.0, 31.0,\n",
        "                31.5, 32.0, 32.0, 32.0, 33.0, 33.0, 33.5, 33.5, 34.0, 34.0, 34.5, 35.0,\n",
        "                35.0, 35.0, 35.0, 36.0, 36.0, 37.0, 38.5, 38.5, 39.5, 41.0, 41.0, 9.8,\n",
        "                10.5, 10.6, 11.0, 11.2, 11.3, 11.8, 11.8, 12.0, 12.2, 12.4, 13.0, 14.3, 15.0]\n",
        "fish_weight = [242.0, 290.0, 340.0, 363.0, 430.0, 450.0, 500.0, 390.0, 450.0, 500.0, 475.0, 500.0,\n",
        "                500.0, 340.0, 600.0, 600.0, 700.0, 700.0, 610.0, 650.0, 575.0, 685.0, 620.0, 680.0,\n",
        "                700.0, 725.0, 720.0, 714.0, 850.0, 1000.0, 920.0, 955.0, 925.0, 975.0, 950.0, 6.7,\n",
        "                7.5, 7.0, 9.7, 9.8, 8.7, 10.0, 9.9, 9.8, 12.2, 13.4, 12.2, 19.7, 19.9]\n"
      ],
      "metadata": {
        "id": "DYjym7XFLGiE"
      },
      "execution_count": null,
      "outputs": []
    },
    {
      "cell_type": "code",
      "source": [
        "import numpy as np\n",
        "np.column_stack(([1, 2, 3], [4, 5, 6]))  # Stack the arrays into a 2x3 matrix."
      ],
      "metadata": {
        "colab": {
          "base_uri": "https://localhost:8080/"
        },
        "id": "pXC0LSsZLj34",
        "outputId": "d0e41ea2-6d99-45b3-a9fd-246e2349eaa7"
      },
      "execution_count": null,
      "outputs": [
        {
          "output_type": "execute_result",
          "data": {
            "text/plain": [
              "array([[1, 4],\n",
              "       [2, 5],\n",
              "       [3, 6]])"
            ]
          },
          "metadata": {},
          "execution_count": 17
        }
      ]
    },
    {
      "cell_type": "code",
      "source": [
        "fish_data = np.column_stack((fish_length, fish_weight))  # Stack length and weight.\n",
        "print(fish_data[:5])"
      ],
      "metadata": {
        "colab": {
          "base_uri": "https://localhost:8080/"
        },
        "id": "dhtBlDheLlPb",
        "outputId": "c1dbdcba-a3c5-46f3-ec09-049d32537233"
      },
      "execution_count": null,
      "outputs": [
        {
          "output_type": "stream",
          "name": "stdout",
          "text": [
            "[[ 25.4 242. ]\n",
            " [ 26.3 290. ]\n",
            " [ 26.5 340. ]\n",
            " [ 29.  363. ]\n",
            " [ 29.  430. ]]\n"
          ]
        }
      ]
    },
    {
      "cell_type": "code",
      "source": [
        "print(np.ones(5))  # Create an array of five ones.\n",
        "fish_target = np.concatenate((np.ones(35), np.zeros(14)))  # Concatenate the target array."
      ],
      "metadata": {
        "colab": {
          "base_uri": "https://localhost:8080/"
        },
        "id": "PdkHz3wsLqHr",
        "outputId": "6bbc16da-59bf-4332-dfdf-9d9c9d1da8e1"
      },
      "execution_count": null,
      "outputs": [
        {
          "output_type": "stream",
          "name": "stdout",
          "text": [
            "[1. 1. 1. 1. 1.]\n"
          ]
        }
      ]
    },
    {
      "cell_type": "markdown",
      "source": [
        "## Splitting the data into training and test sets using Scikit-learn."
      ],
      "metadata": {
        "id": "0qasw2aiL7yM"
      }
    },
    {
      "cell_type": "code",
      "source": [
        "from sklearn.model_selection import train_test_split  # Function to split data\n",
        "train_input, test_input, train_target, test_target = train_test_split(fish_data, fish_target, random_state=42)  # Split with a random seed of 42.\n",
        "\n",
        "print(train_input.shape, test_input.shape)\n",
        "print(train_target.shape, test_target.shape)\n",
        "print(test_target)  # Was it shuffled well?"
      ],
      "metadata": {
        "colab": {
          "base_uri": "https://localhost:8080/"
        },
        "id": "qoM5uBv9L5oI",
        "outputId": "4e0e300d-35f0-4879-ee71-c1f87012a015"
      },
      "execution_count": null,
      "outputs": [
        {
          "output_type": "stream",
          "name": "stdout",
          "text": [
            "(36, 2) (13, 2)\n",
            "(36,) (13,)\n",
            "[1. 0. 0. 0. 1. 1. 1. 1. 1. 1. 1. 1. 1.]\n"
          ]
        }
      ]
    },
    {
      "cell_type": "markdown",
      "source": [
        "* fish_data > train_input, test_input\n",
        "\n",
        "* fish_target > train_input, test_input\n",
        "\n",
        "* Training data: 36 samples, Test data: 13 samples.\n"
      ],
      "metadata": {
        "id": "SgpZcdz9MCNd"
      }
    },
    {
      "cell_type": "code",
      "source": [
        "train_input, test_input, train_target, test_target = train_test_split(fish_data, fish_target, stratify=fish_target, random_state=42)  # Use stratify to maintain the class ratio.\n",
        "print(test_target)  # Now the ratio is correct!"
      ],
      "metadata": {
        "colab": {
          "base_uri": "https://localhost:8080/"
        },
        "id": "QOUnEhhwL23J",
        "outputId": "5505b42b-3222-4249-e4eb-bc7bd80ebf12"
      },
      "execution_count": null,
      "outputs": [
        {
          "output_type": "stream",
          "name": "stdout",
          "text": [
            "[0. 0. 1. 0. 1. 0. 1. 1. 1. 1. 1. 1. 1.]\n"
          ]
        }
      ]
    },
    {
      "cell_type": "markdown",
      "source": [
        "## KNN Practice: Suspicious bream fish"
      ],
      "metadata": {
        "id": "dYmy4FY1TrLH"
      }
    },
    {
      "cell_type": "code",
      "source": [
        "\n",
        "from sklearn.neighbors import KNeighborsClassifier\n",
        "kn = KNeighborsClassifier()\n",
        "kn.fit(train_input, train_target)\n",
        "kn.score(test_input, test_target)  # Perfect score."
      ],
      "metadata": {
        "colab": {
          "base_uri": "https://localhost:8080/"
        },
        "id": "FXczpHDVRi8T",
        "outputId": "f7ac3216-a23d-475a-9256-5c94550f815a"
      },
      "execution_count": null,
      "outputs": [
        {
          "output_type": "execute_result",
          "data": {
            "text/plain": [
              "1.0"
            ]
          },
          "metadata": {},
          "execution_count": 31
        }
      ]
    },
    {
      "cell_type": "code",
      "source": [
        "print(kn.predict([[25, 150]]))  # What? It's a smelt? Let's investigate. # Let's find the reason!"
      ],
      "metadata": {
        "colab": {
          "base_uri": "https://localhost:8080/"
        },
        "id": "As-CH1BpR6eY",
        "outputId": "81cd0842-dca7-4f26-f384-c0506ac3c017"
      },
      "execution_count": null,
      "outputs": [
        {
          "output_type": "stream",
          "name": "stdout",
          "text": [
            "[0.]\n"
          ]
        }
      ]
    },
    {
      "cell_type": "code",
      "source": [
        "import matplotlib.pyplot as plt\n",
        "plt.scatter(train_input[:, 0], train_input[:, 1])\n",
        "plt.scatter(25, 150, marker='^')  # Add a marker for the suspicious fish.\n",
        "plt.xlabel('Length')\n",
        "plt.ylabel('Weight')  # Visually, it looks closer to a bream."
      ],
      "metadata": {
        "colab": {
          "base_uri": "https://localhost:8080/",
          "height": 467
        },
        "id": "Ryk39F2tR_iw",
        "outputId": "34d89dc0-0bda-4d70-a47c-ab25f7e7a8e4"
      },
      "execution_count": null,
      "outputs": [
        {
          "output_type": "execute_result",
          "data": {
            "text/plain": [
              "Text(0, 0.5, 'Weight')"
            ]
          },
          "metadata": {},
          "execution_count": 33
        },
        {
          "output_type": "display_data",
          "data": {
            "text/plain": [
              "<Figure size 640x480 with 1 Axes>"
            ],
            "image/png": "[encoded data removed]"
          },
          "metadata": {}
        }
      ]
    },
    {
      "cell_type": "code",
      "source": [
        "distances, indexes = kn.kneighbors([[25, 150]])  # Find the 5 nearest neighbors."
      ],
      "metadata": {
        "id": "OUo_WDZ-SBeN"
      },
      "execution_count": null,
      "outputs": []
    },
    {
      "cell_type": "code",
      "source": [
        "plt.scatter(train_input[:, 0], train_input[:, 1])\n",
        "plt.scatter(25, 150, marker='^')\n",
        "plt.scatter(train_input[indexes, 0], train_input[indexes, 1], marker='D')  # Show the nearest neighbors as diamonds.\n",
        "plt.xlabel('Length')\n",
        "plt.ylabel('Weight')\n",
        "plt.show()"
      ],
      "metadata": {
        "colab": {
          "base_uri": "https://localhost:8080/",
          "height": 449
        },
        "id": "_xIdNAVpSIE9",
        "outputId": "c9eaad51-030f-49b3-974e-0256a8742dbb"
      },
      "execution_count": null,
      "outputs": [
        {
          "output_type": "display_data",
          "data": {
            "text/plain": [
              "<Figure size 640x480 with 1 Axes>"
            ],
            "image/png": "[encoded data removed]"
          },
          "metadata": {}
        }
      ]
    },
    {
      "cell_type": "code",
      "source": [
        "print(train_input[indexes])  # Print the nearest neighbors' data."
      ],
      "metadata": {
        "colab": {
          "base_uri": "https://localhost:8080/"
        },
        "id": "c7huuLa6S9tz",
        "outputId": "0b0eeda7-8223-472b-d1d3-365b6e02204b"
      },
      "execution_count": null,
      "outputs": [
        {
          "output_type": "stream",
          "name": "stdout",
          "text": [
            "[[[ 25.4 242. ]\n",
            "  [ 15.   19.9]\n",
            "  [ 14.3  19.7]\n",
            "  [ 13.   12.2]\n",
            "  [ 12.2  12.2]]]\n"
          ]
        }
      ]
    },
    {
      "cell_type": "code",
      "source": [
        "print(train_target[indexes])  # See the labels of the nearest neighbors. Four of them are smelt (0)."
      ],
      "metadata": {
        "colab": {
          "base_uri": "https://localhost:8080/"
        },
        "id": "MoixlbOjT5qP",
        "outputId": "728053c4-039b-4501-dc55-eba1646e1206"
      },
      "execution_count": null,
      "outputs": [
        {
          "output_type": "stream",
          "name": "stdout",
          "text": [
            "[[1. 0. 0. 0. 0.]]\n"
          ]
        }
      ]
    },
    {
      "cell_type": "code",
      "source": [
        "# But it’s also close to some bream... What’s the issue?\n",
        "print(distances)  # The distances vary because the x and y axes have different scales."
      ],
      "metadata": {
        "colab": {
          "base_uri": "https://localhost:8080/"
        },
        "id": "I4QGPiIlT_Uo",
        "outputId": "dd51ff5c-337e-4e2b-975e-f1e9ca515bd4"
      },
      "execution_count": null,
      "outputs": [
        {
          "output_type": "stream",
          "name": "stdout",
          "text": [
            "[[ 92.00086956 130.48375378 130.73859415 138.32150953 138.39320793]]\n"
          ]
        }
      ]
    },
    {
      "cell_type": "code",
      "source": [
        "plt.scatter(train_input[:, 0], train_input[:, 1])\n",
        "plt.scatter(25, 150, marker='^')\n",
        "plt.scatter(train_input[indexes, 0], train_input[indexes, 1], marker='D')  # Show the nearest neighbors.\n",
        "plt.xlim(0, 1000)\n",
        "plt.xlabel('Length')\n",
        "plt.ylabel('Weight')\n",
        "plt.show()  # It's due to the scale difference!"
      ],
      "metadata": {
        "colab": {
          "base_uri": "https://localhost:8080/",
          "height": 449
        },
        "id": "Szz3OVXXUD_p",
        "outputId": "0a24f69e-d10d-45f1-cdda-82da842920b3"
      },
      "execution_count": null,
      "outputs": [
        {
          "output_type": "display_data",
          "data": {
            "text/plain": [
              "<Figure size 640x480 with 1 Axes>"
            ],
            "image/png": "[encoded data removed]"
          },
          "metadata": {}
        }
      ]
    },
    {
      "cell_type": "markdown",
      "source": [
        "## Data Preprocessing: Standardize the scales to prevent distances from being skewed.\n",
        "* The best preprocessing method is standardization (z-score)."
      ],
      "metadata": {
        "id": "opj-odMlULIB"
      }
    },
    {
      "cell_type": "code",
      "source": [
        "mean = np.mean(train_input, axis=0)  # Calculate the mean.\n",
        "std = np.std(train_input, axis=0)  # Calculate the standard deviation.\n",
        "\n",
        "print(mean, std)\n"
      ],
      "metadata": {
        "colab": {
          "base_uri": "https://localhost:8080/"
        },
        "id": "luf_iwYzUGul",
        "outputId": "94c25bc8-2adc-4b6a-8157-8076dba37da3"
      },
      "execution_count": null,
      "outputs": [
        {
          "output_type": "stream",
          "name": "stdout",
          "text": [
            "[ 27.29722222 454.09722222] [  9.98244253 323.29893931]\n"
          ]
        }
      ]
    },
    {
      "cell_type": "code",
      "source": [
        "# Standardize the training data.\n",
        "train_scaled = (train_input - mean) / std\n"
      ],
      "metadata": {
        "id": "CTyggFOtUPRi"
      },
      "execution_count": null,
      "outputs": []
    },
    {
      "cell_type": "code",
      "source": [
        "new = ([25, 150] - mean) / std  # Standardize the new fish's data.\n",
        "plt.scatter(train_scaled[:, 0], train_scaled[:, 1])\n",
        "plt.scatter(new[0], new[1], marker='^')  # Add the standardized fish.\n",
        "plt.xlabel('Length')\n",
        "plt.ylabel('Weight')\n",
        "plt.show()  # The plot looks almost the same as before standardization.\n"
      ],
      "metadata": {
        "colab": {
          "base_uri": "https://localhost:8080/",
          "height": 449
        },
        "id": "mHx3sbc3UReo",
        "outputId": "560975d8-3942-449d-e693-19a083c22253"
      },
      "execution_count": null,
      "outputs": [
        {
          "output_type": "display_data",
          "data": {
            "text/plain": [
              "<Figure size 640x480 with 1 Axes>"
            ],
            "image/png": "[encoded data removed]"
          },
          "metadata": {}
        }
      ]
    },
    {
      "cell_type": "code",
      "source": [
        "kn.fit(train_scaled, train_target)  # Train the model with standardized data.\n",
        "\n",
        "test_scaled = (test_input - mean) / std  # Standardize the test data.\n",
        "kn.score(test_scaled, test_target)  # Perfect score.\n"
      ],
      "metadata": {
        "colab": {
          "base_uri": "https://localhost:8080/"
        },
        "id": "OnTDk-f8UUGf",
        "outputId": "81418cd3-6caa-4d9c-86a2-10a6921cb0eb"
      },
      "execution_count": null,
      "outputs": [
        {
          "output_type": "execute_result",
          "data": {
            "text/plain": [
              "1.0"
            ]
          },
          "metadata": {},
          "execution_count": 42
        }
      ]
    },
    {
      "cell_type": "code",
      "source": [
        "print(kn.predict([new]))  # Finally, it correctly predicts the bream (1). This is because we standardized the features.\n"
      ],
      "metadata": {
        "colab": {
          "base_uri": "https://localhost:8080/"
        },
        "id": "ts8WWHAtUVJW",
        "outputId": "e90f4d32-cc43-4f4a-cbb1-a9c57c7cf668"
      },
      "execution_count": null,
      "outputs": [
        {
          "output_type": "stream",
          "name": "stdout",
          "text": [
            "[1.]\n"
          ]
        }
      ]
    },
    {
      "cell_type": "code",
      "source": [
        "distances, indexes = kn.kneighbors([new])  # Find the nearest neighbors of the new fish.\n",
        "plt.scatter(train_scaled[:, 0], train_scaled[:, 1])\n",
        "plt.scatter(new[0], new[1], marker='^')\n",
        "plt.scatter(train_scaled[indexes, 0], train_scaled[indexes, 1], marker='D')\n",
        "plt.xlabel('Length')\n",
        "plt.ylabel('Weight')\n",
        "plt.show()  # The plot has changed because we standardized the features.\n"
      ],
      "metadata": {
        "colab": {
          "base_uri": "https://localhost:8080/",
          "height": 449
        },
        "id": "LXfDtHQhUbW0",
        "outputId": "3ed72f93-1a50-41d0-b743-c925ecda5e8d"
      },
      "execution_count": null,
      "outputs": [
        {
          "output_type": "display_data",
          "data": {
            "text/plain": [
              "<Figure size 640x480 with 1 Axes>"
            ],
            "image/png": "[encoded data removed]"
          },
          "metadata": {}
        }
      ]
    },
    {
      "cell_type": "markdown",
      "source": [
        "* Why was the sample prediction wrong before?\n",
        "* Cause: The length and weight scales were different.\n",
        "* Solution: We standardized the features!"
      ],
      "metadata": {
        "id": "PtTWUK5SUlJg"
      }
    }
  ]
}